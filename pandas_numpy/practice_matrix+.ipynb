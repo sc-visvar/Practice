{
 "cells": [
  {
   "cell_type": "code",
   "execution_count": 3,
   "id": "d4bc93b8-4431-4848-ab79-2f2d7630b7f0",
   "metadata": {},
   "outputs": [],
   "source": [
    "import numpy as np"
   ]
  },
  {
   "cell_type": "code",
   "execution_count": 13,
   "id": "3aceb500",
   "metadata": {},
   "outputs": [
    {
     "data": {
      "text/plain": [
       "array([[3, 4, 9],\n",
       "       [1, 2, 5],\n",
       "       [4, 5, 6]])"
      ]
     },
     "execution_count": 13,
     "metadata": {},
     "output_type": "execute_result"
    }
   ],
   "source": [
    "matrix = np.array([[3, 4, 9] ,[1, 2, 5], [4, 5, 6]])\n",
    "matrix"
   ]
  },
  {
   "cell_type": "code",
   "execution_count": 19,
   "id": "3db0d3d1",
   "metadata": {},
   "outputs": [
    {
     "name": "stdout",
     "output_type": "stream",
     "text": [
      "[[9]]\n"
     ]
    }
   ],
   "source": [
    "sub_matrix = matrix[0:1, 2:3]\n",
    "print(sub_matrix)"
   ]
  },
  {
   "cell_type": "code",
   "execution_count": 33,
   "id": "386a05c5",
   "metadata": {},
   "outputs": [
    {
     "name": "stdout",
     "output_type": "stream",
     "text": [
      "[[2 5]\n",
      " [5 6]]\n"
     ]
    }
   ],
   "source": [
    "sub_matrix = matrix[1:3, 1:4]\n",
    "print(sub_matrix)"
   ]
  },
  {
   "cell_type": "code",
   "execution_count": 39,
   "id": "82fc1858",
   "metadata": {},
   "outputs": [
    {
     "name": "stdout",
     "output_type": "stream",
     "text": [
      "5\n"
     ]
    }
   ],
   "source": [
    "element = matrix[1, 2]\n",
    "print(element)"
   ]
  },
  {
   "cell_type": "code",
   "execution_count": 43,
   "id": "1ccb4ec5",
   "metadata": {},
   "outputs": [
    {
     "name": "stdout",
     "output_type": "stream",
     "text": [
      "3, 4, 9, \n",
      "1, 2, 5, \n",
      "4, 5, 6, \n"
     ]
    }
   ],
   "source": [
    "for row in matrix:\n",
    "    for element in row:\n",
    "        print(element, end= ', ')\n",
    "    print(\"\")\n"
   ]
  },
  {
   "cell_type": "code",
   "execution_count": 49,
   "id": "b1d30d8f",
   "metadata": {},
   "outputs": [
    {
     "name": "stdout",
     "output_type": "stream",
     "text": [
      "[[3]\n",
      " [4]\n",
      " [9]\n",
      " [1]\n",
      " [2]\n",
      " [5]\n",
      " [4]\n",
      " [5]\n",
      " [6]]\n"
     ]
    }
   ],
   "source": [
    "reshaped = matrix.reshape(9, 1)\n",
    "print(reshaped)"
   ]
  },
  {
   "cell_type": "code",
   "execution_count": 55,
   "id": "c6c08faa",
   "metadata": {},
   "outputs": [
    {
     "name": "stdout",
     "output_type": "stream",
     "text": [
      "[[1 2 3]\n",
      " [4 5 6]\n",
      " [7 8 9]]\n",
      "[[3 4 9]\n",
      " [1 2 5]\n",
      " [4 5 6]\n",
      " [1 2 3]\n",
      " [4 5 6]\n",
      " [7 8 9]]\n"
     ]
    }
   ],
   "source": [
    "matrix2 = np.array([[1, 2, 3], [4, 5, 6], [7, 8, 9]])\n",
    "print(matrix2)\n",
    "\n",
    "vstacked = np.vstack((matrix, matrix2))\n",
    "print(vstacked)"
   ]
  },
  {
   "cell_type": "code",
   "execution_count": 57,
   "id": "ba1d0050",
   "metadata": {},
   "outputs": [
    {
     "name": "stdout",
     "output_type": "stream",
     "text": [
      "[[3 4 9 1 2 3]\n",
      " [1 2 5 4 5 6]\n",
      " [4 5 6 7 8 9]]\n"
     ]
    }
   ],
   "source": [
    "hstacked = np.hstack((matrix, matrix2))\n",
    "print(hstacked)"
   ]
  },
  {
   "cell_type": "code",
   "execution_count": 60,
   "id": "c65484a9",
   "metadata": {},
   "outputs": [
    {
     "name": "stdout",
     "output_type": "stream",
     "text": [
      "[[11 12 13]\n",
      " [14 15 16]\n",
      " [17 18 19]]\n"
     ]
    }
   ],
   "source": [
    "add_matrix = matrix2 + 10\n",
    "print(add_matrix)\n",
    "\n",
    "# Likewise for other math operations"
   ]
  },
  {
   "cell_type": "code",
   "execution_count": 62,
   "id": "666284b5",
   "metadata": {},
   "outputs": [
    {
     "name": "stdout",
     "output_type": "stream",
     "text": [
      "[[1 0 3]\n",
      " [4 0 6]\n",
      " [7 0 9]]\n"
     ]
    }
   ],
   "source": [
    "broadcast_mult = matrix2 * np.array([1, 0, 1])\n",
    "print(broadcast_mult)\n",
    "\n",
    "# Likewise for other math operations"
   ]
  },
  {
   "cell_type": "code",
   "execution_count": 63,
   "id": "6dde7852",
   "metadata": {},
   "outputs": [
    {
     "name": "stdout",
     "output_type": "stream",
     "text": [
      "[[ 2  4  6]\n",
      " [ 8 10 12]\n",
      " [14 16 18]]\n"
     ]
    }
   ],
   "source": [
    "matrix1 = np.array([[1, 2, 3], [4, 5, 6], [7, 8, 9]])\n",
    "\n",
    "added_matrix = matrix1 + matrix2\n",
    "print(added_matrix)\n",
    "\n",
    "# Likewise for other math operations"
   ]
  },
  {
   "cell_type": "code",
   "execution_count": 69,
   "id": "c2a44f5a",
   "metadata": {},
   "outputs": [
    {
     "name": "stdout",
     "output_type": "stream",
     "text": [
      "Dot product: \n",
      " [[ 30  36  42]\n",
      " [ 66  81  96]\n",
      " [102 126 150]]\n"
     ]
    }
   ],
   "source": [
    "matrix_dot_mult = np.dot(matrix1, matrix2)\n",
    "print(\"Dot product: \\n\", matrix_dot_mult)"
   ]
  },
  {
   "cell_type": "code",
   "execution_count": 70,
   "id": "4ba84452",
   "metadata": {},
   "outputs": [
    {
     "name": "stdout",
     "output_type": "stream",
     "text": [
      "[[1 4 7]\n",
      " [2 5 8]\n",
      " [3 6 9]]\n"
     ]
    }
   ],
   "source": [
    "transposed = matrix1.T\n",
    "print(transposed)"
   ]
  }
 ],
 "metadata": {
  "kernelspec": {
   "display_name": "Python 3 (ipykernel)",
   "language": "python",
   "name": "python3"
  },
  "language_info": {
   "codemirror_mode": {
    "name": "ipython",
    "version": 3
   },
   "file_extension": ".py",
   "mimetype": "text/x-python",
   "name": "python",
   "nbconvert_exporter": "python",
   "pygments_lexer": "ipython3",
   "version": "3.12.4"
  }
 },
 "nbformat": 4,
 "nbformat_minor": 5
}
