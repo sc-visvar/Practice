{
 "cells": [
  {
   "cell_type": "code",
   "execution_count": 65,
   "metadata": {},
   "outputs": [],
   "source": [
    "import pandas as pd"
   ]
  },
  {
   "cell_type": "code",
   "execution_count": 66,
   "metadata": {},
   "outputs": [
    {
     "name": "stdout",
     "output_type": "stream",
     "text": [
      "   ID     Name\n",
      "0   1    Alice\n",
      "1   2      Bob\n",
      "2   3  Charlie\n",
      "   ID  Age\n",
      "0   1   25\n",
      "1   2   30\n",
      "2   4   35\n"
     ]
    }
   ],
   "source": [
    "df1 = pd.DataFrame({'ID': [1, 2, 3], 'Name': ['Alice', 'Bob', 'Charlie']})\n",
    "df2 = pd.DataFrame({'ID': [1, 2, 4], 'Age': [25, 30, 35]})\n",
    "\n",
    "print(df1)\n",
    "print(df2)"
   ]
  },
  {
   "cell_type": "code",
   "execution_count": 67,
   "metadata": {},
   "outputs": [
    {
     "name": "stdout",
     "output_type": "stream",
     "text": [
      "   ID   Name  Age\n",
      "0   1  Alice   25\n",
      "1   2    Bob   30\n"
     ]
    }
   ],
   "source": [
    "inner_join = pd.merge(df1, df2, on='ID', how='inner')\n",
    "print(inner_join)"
   ]
  },
  {
   "cell_type": "code",
   "execution_count": 68,
   "metadata": {},
   "outputs": [
    {
     "name": "stdout",
     "output_type": "stream",
     "text": [
      "   ID     Name   Age\n",
      "0   1    Alice  25.0\n",
      "1   2      Bob  30.0\n",
      "2   3  Charlie   NaN\n",
      "3   4      NaN  35.0\n"
     ]
    }
   ],
   "source": [
    "outer_join = pd.merge(df1, df2, on='ID', how='outer')\n",
    "print(outer_join)"
   ]
  },
  {
   "cell_type": "code",
   "execution_count": 69,
   "metadata": {},
   "outputs": [
    {
     "name": "stdout",
     "output_type": "stream",
     "text": [
      "   ID     Name   Age\n",
      "0   1    Alice  25.0\n",
      "1   2      Bob  30.0\n",
      "2   3  Charlie  23.0\n",
      "3   4      Dau  35.0\n"
     ]
    }
   ],
   "source": [
    "outer_join.loc[3, \"Name\"] = \"Dau\"\n",
    "outer_join.loc[2, \"Age\"] = 23\n",
    "print(outer_join)"
   ]
  },
  {
   "cell_type": "code",
   "execution_count": 70,
   "metadata": {},
   "outputs": [
    {
     "name": "stdout",
     "output_type": "stream",
     "text": [
      "          ID   Age\n",
      "Name              \n",
      "Alice    1.0  25.0\n",
      "Bob      2.0  30.0\n",
      "Charlie  3.0  23.0\n",
      "Dau      4.0  35.0\n"
     ]
    }
   ],
   "source": [
    "groupby_df = outer_join.groupby('Name').mean()\n",
    "print(groupby_df)\n"
   ]
  },
  {
   "cell_type": "code",
   "execution_count": 71,
   "metadata": {},
   "outputs": [
    {
     "name": "stdout",
     "output_type": "stream",
     "text": [
      "Original DataFrame:\n",
      "     Name  Score  Age  Height Gender\n",
      "0  Alice     85   20     165      F\n",
      "1    Bob     90   22     180      M\n",
      "2  Alice     78   20     165      F\n",
      "3    Bob     92   22     180      M\n",
      "4  Alice     88   20     165      F\n"
     ]
    }
   ],
   "source": [
    "data = {\n",
    "    'Name': ['Alice', 'Bob', 'Alice', 'Bob', 'Alice'],\n",
    "    'Score': [85, 90, 78, 92, 88],\n",
    "    'Age': [20, 22, 20, 22, 20],\n",
    "    'Height': [165, 180, 165, 180, 165],\n",
    "    'Gender': ['F', 'M', 'F', 'M', 'F']\n",
    "}\n",
    "\n",
    "# Creating the DataFrame\n",
    "df = pd.DataFrame(data)\n",
    "print(\"Original DataFrame:\\n\", df)"
   ]
  },
  {
   "cell_type": "code",
   "execution_count": 72,
   "metadata": {},
   "outputs": [
    {
     "name": "stdout",
     "output_type": "stream",
     "text": [
      "    Name  Score  Age  Height\n",
      "0  Alice     85   20     165\n",
      "1    Bob     90   22     180\n",
      "2  Alice     78   20     165\n",
      "3    Bob     92   22     180\n",
      "4  Alice     88   20     165\n"
     ]
    }
   ],
   "source": [
    "df_update = df.drop('Gender', axis=1)\n",
    "print(df_update)\n",
    "\n",
    "# axis = 1 is to specify that remove Gender col, 0 in case to drop a row"
   ]
  },
  {
   "cell_type": "code",
   "execution_count": 73,
   "metadata": {},
   "outputs": [
    {
     "name": "stdout",
     "output_type": "stream",
     "text": [
      "           Score   Age  Height\n",
      "Name                          \n",
      "Alice  83.666667  20.0   165.0\n",
      "Bob    91.000000  22.0   180.0\n"
     ]
    }
   ],
   "source": [
    "grouped = df_update.groupby('Name')\n",
    "groupby_df = grouped.mean()\n",
    "print(groupby_df)"
   ]
  },
  {
   "cell_type": "code",
   "execution_count": 74,
   "metadata": {},
   "outputs": [
    {
     "name": "stdout",
     "output_type": "stream",
     "text": [
      "           Score   Age  Height Gender\n",
      "Name                                 \n",
      "Alice  83.666667  20.0   165.0      F\n",
      "Bob    91.000000  22.0   180.0      M\n"
     ]
    }
   ],
   "source": [
    "# But inseated of dropping non-numeric cols we can retain them with alloting some agg operation that col\n",
    "grouped = df.groupby('Name')\n",
    "agg_df = grouped.agg({\n",
    "    'Score': 'mean',\n",
    "    'Age': 'mean',\n",
    "    'Height': 'mean',\n",
    "    'Gender': 'max'\n",
    "})\n",
    "\n",
    "# Since we can't do mean on non-numeric allot some other agg operations like min, max, count, first, last, etc.,\n",
    "print(agg_df)"
   ]
  },
  {
   "cell_type": "code",
   "execution_count": 75,
   "metadata": {},
   "outputs": [
    {
     "name": "stdout",
     "output_type": "stream",
     "text": [
      "    Name  Score  Age  Height Gender Grade\n",
      "0  Alice     85   20     165      F     B\n",
      "1    Bob     90   22     180      M     B\n",
      "2  Alice     78   20     165      F     C\n",
      "3    Bob     92   22     180      M     A\n",
      "4  Alice     88   20     165      F     B\n"
     ]
    }
   ],
   "source": [
    "df['Grade'] = df['Score'].apply(\n",
    "    lambda x:\n",
    "    'A' if x > 90 else 'B' if x > 80 else 'C')\n",
    "print(df)"
   ]
  },
  {
   "cell_type": "code",
   "execution_count": 76,
   "metadata": {},
   "outputs": [
    {
     "data": {
      "text/html": [
       "<div>\n",
       "<style scoped>\n",
       "    .dataframe tbody tr th:only-of-type {\n",
       "        vertical-align: middle;\n",
       "    }\n",
       "\n",
       "    .dataframe tbody tr th {\n",
       "        vertical-align: top;\n",
       "    }\n",
       "\n",
       "    .dataframe thead th {\n",
       "        text-align: right;\n",
       "    }\n",
       "</style>\n",
       "<table border=\"1\" class=\"dataframe\">\n",
       "  <thead>\n",
       "    <tr style=\"text-align: right;\">\n",
       "      <th></th>\n",
       "      <th>Name</th>\n",
       "      <th>Score</th>\n",
       "      <th>Age</th>\n",
       "      <th>Height</th>\n",
       "      <th>Gender</th>\n",
       "      <th>Grade</th>\n",
       "    </tr>\n",
       "  </thead>\n",
       "  <tbody>\n",
       "    <tr>\n",
       "      <th>0</th>\n",
       "      <td>Alice</td>\n",
       "      <td>85</td>\n",
       "      <td>20</td>\n",
       "      <td>165</td>\n",
       "      <td>F</td>\n",
       "      <td>B</td>\n",
       "    </tr>\n",
       "    <tr>\n",
       "      <th>1</th>\n",
       "      <td>Bob</td>\n",
       "      <td>90</td>\n",
       "      <td>22</td>\n",
       "      <td>180</td>\n",
       "      <td>M</td>\n",
       "      <td>B</td>\n",
       "    </tr>\n",
       "    <tr>\n",
       "      <th>2</th>\n",
       "      <td>Alice</td>\n",
       "      <td>78</td>\n",
       "      <td>20</td>\n",
       "      <td>165</td>\n",
       "      <td>F</td>\n",
       "      <td>C</td>\n",
       "    </tr>\n",
       "    <tr>\n",
       "      <th>3</th>\n",
       "      <td>Bob</td>\n",
       "      <td>92</td>\n",
       "      <td>22</td>\n",
       "      <td>180</td>\n",
       "      <td>M</td>\n",
       "      <td>A</td>\n",
       "    </tr>\n",
       "    <tr>\n",
       "      <th>4</th>\n",
       "      <td>Alice</td>\n",
       "      <td>88</td>\n",
       "      <td>20</td>\n",
       "      <td>165</td>\n",
       "      <td>F</td>\n",
       "      <td>B</td>\n",
       "    </tr>\n",
       "  </tbody>\n",
       "</table>\n",
       "</div>"
      ],
      "text/plain": [
       "    Name  Score  Age  Height Gender Grade\n",
       "0  Alice     85   20     165      F     B\n",
       "1    Bob     90   22     180      M     B\n",
       "2  Alice     78   20     165      F     C\n",
       "3    Bob     92   22     180      M     A\n",
       "4  Alice     88   20     165      F     B"
      ]
     },
     "execution_count": 76,
     "metadata": {},
     "output_type": "execute_result"
    }
   ],
   "source": [
    "view = df[:]\n",
    "view"
   ]
  },
  {
   "cell_type": "code",
   "execution_count": 77,
   "metadata": {},
   "outputs": [
    {
     "data": {
      "text/html": [
       "<div>\n",
       "<style scoped>\n",
       "    .dataframe tbody tr th:only-of-type {\n",
       "        vertical-align: middle;\n",
       "    }\n",
       "\n",
       "    .dataframe tbody tr th {\n",
       "        vertical-align: top;\n",
       "    }\n",
       "\n",
       "    .dataframe thead th {\n",
       "        text-align: right;\n",
       "    }\n",
       "</style>\n",
       "<table border=\"1\" class=\"dataframe\">\n",
       "  <thead>\n",
       "    <tr style=\"text-align: right;\">\n",
       "      <th></th>\n",
       "      <th>Name</th>\n",
       "      <th>Score</th>\n",
       "      <th>Age</th>\n",
       "      <th>Height</th>\n",
       "      <th>Gender</th>\n",
       "      <th>Grade</th>\n",
       "    </tr>\n",
       "  </thead>\n",
       "  <tbody>\n",
       "    <tr>\n",
       "      <th>0</th>\n",
       "      <td>Alice</td>\n",
       "      <td>85</td>\n",
       "      <td>20</td>\n",
       "      <td>95</td>\n",
       "      <td>F</td>\n",
       "      <td>B</td>\n",
       "    </tr>\n",
       "    <tr>\n",
       "      <th>1</th>\n",
       "      <td>Bob</td>\n",
       "      <td>90</td>\n",
       "      <td>22</td>\n",
       "      <td>180</td>\n",
       "      <td>M</td>\n",
       "      <td>B</td>\n",
       "    </tr>\n",
       "    <tr>\n",
       "      <th>2</th>\n",
       "      <td>Alice</td>\n",
       "      <td>78</td>\n",
       "      <td>20</td>\n",
       "      <td>165</td>\n",
       "      <td>F</td>\n",
       "      <td>C</td>\n",
       "    </tr>\n",
       "    <tr>\n",
       "      <th>3</th>\n",
       "      <td>Bob</td>\n",
       "      <td>92</td>\n",
       "      <td>22</td>\n",
       "      <td>180</td>\n",
       "      <td>M</td>\n",
       "      <td>A</td>\n",
       "    </tr>\n",
       "    <tr>\n",
       "      <th>4</th>\n",
       "      <td>Alice</td>\n",
       "      <td>88</td>\n",
       "      <td>20</td>\n",
       "      <td>165</td>\n",
       "      <td>F</td>\n",
       "      <td>B</td>\n",
       "    </tr>\n",
       "  </tbody>\n",
       "</table>\n",
       "</div>"
      ],
      "text/plain": [
       "    Name  Score  Age  Height Gender Grade\n",
       "0  Alice     85   20      95      F     B\n",
       "1    Bob     90   22     180      M     B\n",
       "2  Alice     78   20     165      F     C\n",
       "3    Bob     92   22     180      M     A\n",
       "4  Alice     88   20     165      F     B"
      ]
     },
     "execution_count": 77,
     "metadata": {},
     "output_type": "execute_result"
    }
   ],
   "source": [
    "view.iloc[0, 3] = 95\n",
    "df\n",
    "\n",
    "# View is a refernce to the original df"
   ]
  },
  {
   "cell_type": "code",
   "execution_count": 78,
   "metadata": {},
   "outputs": [
    {
     "name": "stdout",
     "output_type": "stream",
     "text": [
      "    Name  Score  Age  Height Gender Grade\n",
      "0  Alice     85   20      95      F     B\n",
      "1    Bob     86   22     180      M     B\n",
      "2  Alice     78   20     165      F     C\n",
      "3    Bob     92   22     180      M     A\n",
      "4  Alice     88   20     165      F     B\n"
     ]
    },
    {
     "data": {
      "text/html": [
       "<div>\n",
       "<style scoped>\n",
       "    .dataframe tbody tr th:only-of-type {\n",
       "        vertical-align: middle;\n",
       "    }\n",
       "\n",
       "    .dataframe tbody tr th {\n",
       "        vertical-align: top;\n",
       "    }\n",
       "\n",
       "    .dataframe thead th {\n",
       "        text-align: right;\n",
       "    }\n",
       "</style>\n",
       "<table border=\"1\" class=\"dataframe\">\n",
       "  <thead>\n",
       "    <tr style=\"text-align: right;\">\n",
       "      <th></th>\n",
       "      <th>Name</th>\n",
       "      <th>Score</th>\n",
       "      <th>Age</th>\n",
       "      <th>Height</th>\n",
       "      <th>Gender</th>\n",
       "      <th>Grade</th>\n",
       "    </tr>\n",
       "  </thead>\n",
       "  <tbody>\n",
       "    <tr>\n",
       "      <th>0</th>\n",
       "      <td>Alice</td>\n",
       "      <td>85</td>\n",
       "      <td>20</td>\n",
       "      <td>95</td>\n",
       "      <td>F</td>\n",
       "      <td>B</td>\n",
       "    </tr>\n",
       "    <tr>\n",
       "      <th>1</th>\n",
       "      <td>Bob</td>\n",
       "      <td>90</td>\n",
       "      <td>22</td>\n",
       "      <td>180</td>\n",
       "      <td>M</td>\n",
       "      <td>B</td>\n",
       "    </tr>\n",
       "    <tr>\n",
       "      <th>2</th>\n",
       "      <td>Alice</td>\n",
       "      <td>78</td>\n",
       "      <td>20</td>\n",
       "      <td>165</td>\n",
       "      <td>F</td>\n",
       "      <td>C</td>\n",
       "    </tr>\n",
       "    <tr>\n",
       "      <th>3</th>\n",
       "      <td>Bob</td>\n",
       "      <td>92</td>\n",
       "      <td>22</td>\n",
       "      <td>180</td>\n",
       "      <td>M</td>\n",
       "      <td>A</td>\n",
       "    </tr>\n",
       "    <tr>\n",
       "      <th>4</th>\n",
       "      <td>Alice</td>\n",
       "      <td>88</td>\n",
       "      <td>20</td>\n",
       "      <td>165</td>\n",
       "      <td>F</td>\n",
       "      <td>B</td>\n",
       "    </tr>\n",
       "  </tbody>\n",
       "</table>\n",
       "</div>"
      ],
      "text/plain": [
       "    Name  Score  Age  Height Gender Grade\n",
       "0  Alice     85   20      95      F     B\n",
       "1    Bob     90   22     180      M     B\n",
       "2  Alice     78   20     165      F     C\n",
       "3    Bob     92   22     180      M     A\n",
       "4  Alice     88   20     165      F     B"
      ]
     },
     "execution_count": 78,
     "metadata": {},
     "output_type": "execute_result"
    }
   ],
   "source": [
    "copy = df.copy()\n",
    "copy.iloc[1, 1] = 86\n",
    "print(copy)\n",
    "df\n",
    "\n",
    "# Copy take a copy in to that variable "
   ]
  }
 ],
 "metadata": {
  "kernelspec": {
   "display_name": "Python 3 (ipykernel)",
   "language": "python",
   "name": "python3"
  },
  "language_info": {
   "codemirror_mode": {
    "name": "ipython",
    "version": 3
   },
   "file_extension": ".py",
   "mimetype": "text/x-python",
   "name": "python",
   "nbconvert_exporter": "python",
   "pygments_lexer": "ipython3",
   "version": "3.12.4"
  }
 },
 "nbformat": 4,
 "nbformat_minor": 2
}
